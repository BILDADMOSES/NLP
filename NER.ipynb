{
 "cells": [
  {
   "cell_type": "markdown",
   "metadata": {},
   "source": [
    "## <p style = \"text-align: center\" >NAMED ENTITY RECOGNITION</p>\n",
    "---"
   ]
  },
  {
   "cell_type": "markdown",
   "metadata": {},
   "source": [
    "## Using NLTK for Named Entity Recognition"
   ]
  },
  {
   "cell_type": "code",
   "execution_count": 5,
   "metadata": {},
   "outputs": [
    {
     "data": {
      "text/plain": [
       "[('In', 'IN'),\n",
       " ('Nairobi', 'NNP'),\n",
       " (',', ','),\n",
       " ('I', 'PRP'),\n",
       " ('like', 'VBP'),\n",
       " ('to', 'TO'),\n",
       " ('ride', 'VB'),\n",
       " ('the', 'DT'),\n",
       " ('Metro', 'NNP'),\n",
       " ('to', 'TO'),\n",
       " ('visit', 'VB'),\n",
       " ('Juja', 'NNP'),\n",
       " ('and', 'CC'),\n",
       " ('some', 'DT'),\n",
       " ('restraurants', 'NNS'),\n",
       " ('around', 'IN'),\n",
       " ('Kenyatta', 'NNP'),\n",
       " ('University', 'NNP'),\n",
       " ('.', '.')]"
      ]
     },
     "execution_count": 5,
     "metadata": {},
     "output_type": "execute_result"
    }
   ],
   "source": [
    "import nltk\n",
    "\n",
    "sentence = '''In Nairobi, I like to ride the Metro to visit Juja and some restraurants around Kenyatta University.'''\n",
    "\n",
    "tokenized_sent = nltk.word_tokenize(sentence)\n",
    "\n",
    "tagged_sent = nltk.pos_tag(tokenized_sent) #Will add tags for proper nouns, pronouns, adjectives,verbs\n",
    "tagged_sent[:]"
   ]
  },
  {
   "cell_type": "markdown",
   "metadata": {},
   "source": [
    "So the below abbreviations stand for the parts of speech:\n",
    "\n",
    "'like' (VBP) - VBP stands for Verb, Present Tense. In this context, \"like\" is a verb in the present tense.\n",
    "\n",
    "'to' (TO) - TO is a preposition or infinitive marker. It's often used before verbs to indicate an action.\n",
    "\n",
    "'ride' (VB) - VB stands for Verb Base Form. \"Ride\" is the base form of the verb.\n",
    "\n",
    "'the' (DT) - DT is a determiner. \"The\" is a definite article used before nouns.\n",
    "\n",
    "'Metro' (NNP) - NNP stands for Proper Noun, Singular. \"Metro\" is a proper noun, typically referring to a specific entity or place.\n",
    "\n"
   ]
  },
  {
   "cell_type": "code",
   "execution_count": 6,
   "metadata": {},
   "outputs": [
    {
     "name": "stdout",
     "output_type": "stream",
     "text": [
      "(S\n",
      "  In/IN\n",
      "  (GPE Nairobi/NNP)\n",
      "  ,/,\n",
      "  I/PRP\n",
      "  like/VBP\n",
      "  to/TO\n",
      "  ride/VB\n",
      "  the/DT\n",
      "  (ORGANIZATION Metro/NNP)\n",
      "  to/TO\n",
      "  visit/VB\n",
      "  (PERSON Juja/NNP)\n",
      "  and/CC\n",
      "  some/DT\n",
      "  restraurants/NNS\n",
      "  around/IN\n",
      "  (PERSON Kenyatta/NNP University/NNP)\n",
      "  ./.)\n"
     ]
    }
   ],
   "source": [
    "print(nltk.ne_chunk(tagged_sent))"
   ]
  }
 ],
 "metadata": {
  "kernelspec": {
   "display_name": "myenv",
   "language": "python",
   "name": "python3"
  },
  "language_info": {
   "codemirror_mode": {
    "name": "ipython",
    "version": 3
   },
   "file_extension": ".py",
   "mimetype": "text/x-python",
   "name": "python",
   "nbconvert_exporter": "python",
   "pygments_lexer": "ipython3",
   "version": "3.9.16"
  },
  "orig_nbformat": 4
 },
 "nbformat": 4,
 "nbformat_minor": 2
}
