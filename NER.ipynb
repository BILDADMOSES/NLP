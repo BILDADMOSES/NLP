{
 "cells": [
  {
   "cell_type": "markdown",
   "metadata": {},
   "source": [
    "## <p style = \"text-align: center\" >NAMED ENTITY RECOGNITION</p>\n",
    "---"
   ]
  },
  {
   "cell_type": "markdown",
   "metadata": {},
   "source": [
    "An **entity** refers to a specific, named object, concept, or item in a text, such as a person's name, a location, a date, a product, an organization, or any other distinct and recognizable element.\n",
    "\n",
    "\n",
    "## Using NLTK for Named Entity Recognition"
   ]
  },
  {
   "cell_type": "code",
   "execution_count": 5,
   "metadata": {},
   "outputs": [
    {
     "data": {
      "text/plain": [
       "[('In', 'IN'),\n",
       " ('Nairobi', 'NNP'),\n",
       " (',', ','),\n",
       " ('I', 'PRP'),\n",
       " ('like', 'VBP'),\n",
       " ('to', 'TO'),\n",
       " ('ride', 'VB'),\n",
       " ('the', 'DT'),\n",
       " ('Metro', 'NNP'),\n",
       " ('to', 'TO'),\n",
       " ('visit', 'VB'),\n",
       " ('Juja', 'NNP'),\n",
       " ('and', 'CC'),\n",
       " ('some', 'DT'),\n",
       " ('restraurants', 'NNS'),\n",
       " ('around', 'IN'),\n",
       " ('Kenyatta', 'NNP'),\n",
       " ('University', 'NNP'),\n",
       " ('.', '.')]"
      ]
     },
     "execution_count": 5,
     "metadata": {},
     "output_type": "execute_result"
    }
   ],
   "source": [
    "import nltk\n",
    "\n",
    "sentence = '''In Nairobi, I like to ride the Metro to visit Juja and some restraurants around Kenyatta University.'''\n",
    "\n",
    "tokenized_sent = nltk.word_tokenize(sentence)\n",
    "\n",
    "tagged_sent = nltk.pos_tag(tokenized_sent) #Will add tags for proper nouns, pronouns, adjectives,verbs that nltk uses based on English grammar\n",
    "tagged_sent[:]"
   ]
  },
  {
   "cell_type": "markdown",
   "metadata": {},
   "source": [
    "So the below abbreviations stand for the parts of speech:\n",
    "\n",
    "'like' (VBP) - VBP stands for Verb, Present Tense. In this context, \"like\" is a verb in the present tense.\n",
    "\n",
    "'to' (TO) - TO is a preposition or infinitive marker. It's often used before verbs to indicate an action.\n",
    "\n",
    "'ride' (VB) - VB stands for Verb Base Form. \"Ride\" is the base form of the verb.\n",
    "\n",
    "'the' (DT) - DT is a determiner. \"The\" is a definite article used before nouns.\n",
    "\n",
    "'Metro' (NNP) - NNP stands for Proper Noun, Singular. \"Metro\" is a proper noun, typically referring to a specific entity or place.\n",
    "\n",
    "\n",
    "We then pass the tagged sentence in to the named entity chunk function(<span style = \"color:blue\">ne_chunk </span>) which returns the sentence as a tree.\n",
    "\n",
    "### Named Entity Chunk Function\n",
    "\n",
    "The Named Entity Chunk function is part of natural language processing and is used to identify and extract named entities from text. \n",
    "\n",
    "\n",
    "Named entities are specific words or phrases that refer to particular types of entities, such as names of people, organizations, locations, dates, monetary values, and more. \n",
    "\n",
    "\n",
    "The Named Entity Chunk function groups these entities together in a way that makes it easier to analyze and understand the content of the text."
   ]
  },
  {
   "cell_type": "code",
   "execution_count": 6,
   "metadata": {},
   "outputs": [
    {
     "name": "stdout",
     "output_type": "stream",
     "text": [
      "(S\n",
      "  In/IN\n",
      "  (GPE Nairobi/NNP)\n",
      "  ,/,\n",
      "  I/PRP\n",
      "  like/VBP\n",
      "  to/TO\n",
      "  ride/VB\n",
      "  the/DT\n",
      "  (ORGANIZATION Metro/NNP)\n",
      "  to/TO\n",
      "  visit/VB\n",
      "  (PERSON Juja/NNP)\n",
      "  and/CC\n",
      "  some/DT\n",
      "  restraurants/NNS\n",
      "  around/IN\n",
      "  (PERSON Kenyatta/NNP University/NNP)\n",
      "  ./.)\n"
     ]
    }
   ],
   "source": [
    "print(nltk.ne_chunk(tagged_sent))"
   ]
  },
  {
   "cell_type": "markdown",
   "metadata": {},
   "source": [
    "## Multilingual NER with polyglot"
   ]
  },
  {
   "cell_type": "code",
   "execution_count": 13,
   "metadata": {},
   "outputs": [
    {
     "name": "stdout",
     "output_type": "stream",
     "text": [
      "Collecting polyglot\n",
      "  Downloading polyglot-16.7.4.tar.gz (126 kB)\n",
      "     -------------------------------------- 126.3/126.3 kB 1.1 MB/s eta 0:00:00\n",
      "  Preparing metadata (setup.py): started\n",
      "  Preparing metadata (setup.py): finished with status 'done'\n",
      "Building wheels for collected packages: polyglot\n",
      "  Building wheel for polyglot (setup.py): started\n",
      "  Building wheel for polyglot (setup.py): finished with status 'done'\n",
      "  Created wheel for polyglot: filename=polyglot-16.7.4-py2.py3-none-any.whl size=52604 sha256=7347b221f6020afd6dccf5f67e655bdf56f2f1d21194559757ee0e0b6b52a853\n",
      "  Stored in directory: c:\\users\\bildad otieno\\appdata\\local\\pip\\cache\\wheels\\77\\4a\\9d\\5141018da475375d91dc1af07520b1f2b077579f2f55353afb\n",
      "Successfully built polyglot\n",
      "Installing collected packages: polyglot\n",
      "Successfully installed polyglot-16.7.4\n"
     ]
    }
   ],
   "source": [
    "# !pip install polyglot"
   ]
  },
  {
   "cell_type": "code",
   "execution_count": 22,
   "metadata": {},
   "outputs": [
    {
     "name": "stderr",
     "output_type": "stream",
     "text": [
      "ERROR: Could not find a version that satisfies the requirement locale (from versions: none)\n",
      "ERROR: No matching distribution found for locale\n"
     ]
    }
   ],
   "source": [
    "!pip install locale\n",
    "#from polyglot.text import Text"
   ]
  }
 ],
 "metadata": {
  "kernelspec": {
   "display_name": "myenv",
   "language": "python",
   "name": "python3"
  },
  "language_info": {
   "codemirror_mode": {
    "name": "ipython",
    "version": 3
   },
   "file_extension": ".py",
   "mimetype": "text/x-python",
   "name": "python",
   "nbconvert_exporter": "python",
   "pygments_lexer": "ipython3",
   "version": "3.9.16"
  },
  "orig_nbformat": 4
 },
 "nbformat": 4,
 "nbformat_minor": 2
}
