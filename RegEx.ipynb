{
 "cells": [
  {
   "cell_type": "markdown",
   "metadata": {},
   "source": [
    "## <p style = \"text-align: center\" >REGULAR EXPRESSIONS</p>\n",
    "<hr>\n",
    "\n",
    "### What is RegEx? \n",
    "\n",
    "\n",
    "- A RegEx, or Regular Expression, is a sequence of characters that forms a search pattern.\n",
    "\n",
    "- RegEx can be used to check if a string contains the specified search pattern.\n",
    "\n",
    "### Applications of RegEx\n",
    "\n",
    "\n",
    "1). Find links in Web pages\n",
    "\n",
    "2). Parse email addresses\n",
    "\n",
    "3). Remove unwanted strings or characters\n",
    "\n",
    "\n",
    "So to install the library we can do a pip or conda install:\n",
    "\n",
    "- pip install regex\n",
    "- conda install -c conda-forge regex\n",
    "\n",
    "We can use regex easily with the python library via the '<span style = \"color:blue\">re</span>' library:\n",
    "\n"
   ]
  },
  {
   "cell_type": "code",
   "execution_count": 1,
   "metadata": {},
   "outputs": [],
   "source": [
    "import re"
   ]
  },
  {
   "cell_type": "markdown",
   "metadata": {},
   "source": [
    "<img src = \"pasted image 0.png\"   margin-right = \"auto\">\n",
    "\n",
    "Use **re.findall()** when you want to find all non-overlapping occurrences of a pattern anywhere in the text.\n",
    "\n",
    "Use **re.match()** when you want to check if a pattern matches at the beginning of a string and obtain the first match."
   ]
  },
  {
   "cell_type": "code",
   "execution_count": null,
   "metadata": {},
   "outputs": [],
   "source": [
    "\n",
    "text = 'Hello Wo2rld 123!'\n",
    "\n",
    "pattern = r\"\\d\"\n",
    "\n",
    "\n",
    "\n",
    "re.findall(pattern, text)"
   ]
  },
  {
   "cell_type": "markdown",
   "metadata": {},
   "source": [
    "Pattern - a series of letters or symbols which can map to an actual text or words or punctuation."
   ]
  },
  {
   "cell_type": "code",
   "execution_count": 2,
   "metadata": {},
   "outputs": [
    {
     "data": {
      "text/plain": [
       "<re.Match object; span=(0, 5), match='Hello'>"
      ]
     },
     "execution_count": 2,
     "metadata": {},
     "output_type": "execute_result"
    }
   ],
   "source": [
    "pattern = r'\\w+'\n",
    "\n",
    "re.match(pattern, text)"
   ]
  }
 ],
 "metadata": {
  "kernelspec": {
   "display_name": "myenv",
   "language": "python",
   "name": "python3"
  },
  "language_info": {
   "codemirror_mode": {
    "name": "ipython",
    "version": 3
   },
   "file_extension": ".py",
   "mimetype": "text/x-python",
   "name": "python",
   "nbconvert_exporter": "python",
   "pygments_lexer": "ipython3",
   "version": "3.9.16"
  },
  "orig_nbformat": 4
 },
 "nbformat": 4,
 "nbformat_minor": 2
}
