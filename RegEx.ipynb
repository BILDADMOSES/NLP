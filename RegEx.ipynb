{
 "cells": [
  {
   "cell_type": "markdown",
   "metadata": {},
   "source": [
    "## <p style = \"text-align: center\" >REGULAR EXPRESSIONS</p>\n",
    "<hr>\n",
    "\n",
    "### What is RegEx? \n",
    "\n",
    "\n",
    "- A RegEx, or Regular Expression, is a sequence of characters that forms a search pattern.\n",
    "\n",
    "- RegEx can be used to check if a string contains the specified search pattern.\n",
    "\n",
    "### Applications of RegEx\n",
    "\n",
    "\n",
    "1). Find links in Web pages\n",
    "\n",
    "2). Parse email addresses\n",
    "\n",
    "3). Remove unwanted strings or characters\n",
    "\n",
    "\n",
    "So to install the library we can do a pip or conda install:\n",
    "\n",
    "- pip install regex\n",
    "- conda install -c conda-forge regex\n",
    "\n",
    "\n"
   ]
  },
  {
   "cell_type": "code",
   "execution_count": 8,
   "metadata": {},
   "outputs": [],
   "source": [
    "#!pip install regex"
   ]
  },
  {
   "cell_type": "code",
   "execution_count": null,
   "metadata": {},
   "outputs": [],
   "source": [
    "# If you have a conda environment in place\n",
    "!conda install regex"
   ]
  },
  {
   "cell_type": "markdown",
   "metadata": {},
   "source": [
    "We can use regex easily with python via the '<span style = \"color:blue\">re</span>' library:"
   ]
  },
  {
   "cell_type": "code",
   "execution_count": 2,
   "metadata": {},
   "outputs": [],
   "source": [
    "import re"
   ]
  },
  {
   "cell_type": "markdown",
   "metadata": {},
   "source": [
    "### Functions in RegEx\n",
    "\n",
    "Some of the methods that we have in regex include:"
   ]
  },
  {
   "cell_type": "markdown",
   "metadata": {},
   "source": [
    "<img src = \"Screenshot 2023-09-20 144748.png\"   margin-right = \"auto\">\n"
   ]
  },
  {
   "cell_type": "markdown",
   "metadata": {},
   "source": [
    "## Looking to difference between Match and Search\n",
    "\n",
    "When we use the same search pattern for both words we find that search function returns an object because it looks for the existence of the pattern anywhere within the string.\n",
    "\n",
    "The same is not true for match which will only look for it at the beginning."
   ]
  },
  {
   "cell_type": "code",
   "execution_count": 6,
   "metadata": {},
   "outputs": [
    {
     "name": "stdout",
     "output_type": "stream",
     "text": [
      "None\n",
      "<re.Match object; span=(2, 3), match='c'>\n"
     ]
    }
   ],
   "source": [
    "print(re.match('c', 'abcde'))\n",
    "\n",
    "print(re.search('c', 'abcde'))"
   ]
  },
  {
   "cell_type": "markdown",
   "metadata": {},
   "source": [
    "## What are Metacharacters and their use in Regular Expressions?\n",
    "\n",
    "We also have metacharacters.\n",
    "These are special characters that have a predefined meaning in regular expressions.\n",
    "\n",
    "<img src = \"P_1.png\">"
   ]
  },
  {
   "cell_type": "code",
   "execution_count": 107,
   "metadata": {},
   "outputs": [
    {
     "name": "stdout",
     "output_type": "stream",
     "text": [
      "['1. Hello Worl', \"! 2. Hello Billy! 3. What's it like?\"]\n"
     ]
    }
   ],
   "source": [
    "\n",
    "text = '1. Hello World! 2. Hello Billy! 3. What\\'s it like?'\n",
    "\n",
    "pattern = r\"d+\"\n",
    "\n",
    "\n",
    "\n",
    "print(re.split(pattern, text))"
   ]
  },
  {
   "cell_type": "markdown",
   "metadata": {},
   "source": [
    "Pattern - a series of letters or symbols which can map to an actual text or words or punctuation."
   ]
  },
  {
   "cell_type": "code",
   "execution_count": 18,
   "metadata": {},
   "outputs": [
    {
     "name": "stdout",
     "output_type": "stream",
     "text": [
      "['', 'M', 'y', '', 'n', 'a', 'm', 'e', '', 'i', 's', '', 'B', 'i', 'l', 'l', 'y', '']\n"
     ]
    }
   ],
   "source": [
    "text = \"My name is Billy\"\n",
    "\n",
    "pattern = r'\\s*'\n",
    "\n",
    "print(re.split(pattern, text))\n"
   ]
  }
 ],
 "metadata": {
  "kernelspec": {
   "display_name": "myenv",
   "language": "python",
   "name": "python3"
  },
  "language_info": {
   "codemirror_mode": {
    "name": "ipython",
    "version": 3
   },
   "file_extension": ".py",
   "mimetype": "text/x-python",
   "name": "python",
   "nbconvert_exporter": "python",
   "pygments_lexer": "ipython3",
   "version": "3.9.16"
  },
  "orig_nbformat": 4
 },
 "nbformat": 4,
 "nbformat_minor": 2
}
