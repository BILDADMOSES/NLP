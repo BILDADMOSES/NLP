{
 "cells": [
  {
   "cell_type": "markdown",
   "metadata": {},
   "source": [
    "## <p style = \"text-align: center\" >REGULAR EXPRESSIONS</p>\n",
    "<hr>\n",
    "\n",
    "### What is RegEx? \n",
    "\n",
    "\n",
    "- A RegEx, or Regular Expression, is a sequence of characters that forms a search pattern.\n",
    "\n",
    "- RegEx can be used to check if a string contains the specified search pattern.\n",
    "\n",
    "### Applications of RegEx\n",
    "\n",
    "\n",
    "1). Find links in Web pages\n",
    "\n",
    "2). Parse email addresses\n",
    "\n",
    "3). Remove unwanted strings or characters\n",
    "\n",
    "\n",
    "So to install the library we can do a pip or conda install:\n",
    "\n",
    "- pip install regex\n",
    "- conda install -c conda-forge regex\n",
    "\n",
    "\n"
   ]
  },
  {
   "cell_type": "code",
   "execution_count": 8,
   "metadata": {},
   "outputs": [],
   "source": [
    "#!pip install regex"
   ]
  },
  {
   "cell_type": "code",
   "execution_count": null,
   "metadata": {},
   "outputs": [],
   "source": [
    "# If you have a conda environment in place\n",
    "# !conda install regex"
   ]
  },
  {
   "cell_type": "markdown",
   "metadata": {},
   "source": [
    "We can use regex easily with python via the '<span style = \"color:blue\">re</span>' library:"
   ]
  },
  {
   "cell_type": "code",
   "execution_count": 2,
   "metadata": {},
   "outputs": [],
   "source": [
    "import re"
   ]
  },
  {
   "cell_type": "markdown",
   "metadata": {},
   "source": [
    "### Functions in RegEx\n",
    "\n",
    "Some of the methods that we have in regex include:"
   ]
  },
  {
   "cell_type": "markdown",
   "metadata": {},
   "source": [
    "<img src = \"Screenshot 2023-09-20 144748.png\"   margin-right = \"auto\">\n"
   ]
  },
  {
   "cell_type": "markdown",
   "metadata": {},
   "source": [
    "Pattern - a series of letters or symbols which can map to an actual text or words or punctuation."
   ]
  },
  {
   "cell_type": "markdown",
   "metadata": {},
   "source": [
    "## Looking to difference between Match and Search\n",
    "\n",
    "When we use the same search pattern for both words we find that search function returns an object because it looks for the existence of the pattern anywhere within the string.\n"
   ]
  },
  {
   "cell_type": "code",
   "execution_count": 6,
   "metadata": {},
   "outputs": [
    {
     "name": "stdout",
     "output_type": "stream",
     "text": [
      "None\n",
      "<re.Match object; span=(2, 3), match='c'>\n"
     ]
    }
   ],
   "source": [
    "print(re.search('c', 'abcde'))"
   ]
  },
  {
   "cell_type": "markdown",
   "metadata": {},
   "source": [
    "The same is not true for match which will only look for it at the beginning until it cannot match any longer:"
   ]
  },
  {
   "cell_type": "code",
   "execution_count": 8,
   "metadata": {},
   "outputs": [
    {
     "name": "stdout",
     "output_type": "stream",
     "text": [
      "None\n"
     ]
    }
   ],
   "source": [
    "print(re.match('c', 'abcde'))"
   ]
  },
  {
   "cell_type": "markdown",
   "metadata": {},
   "source": [
    "## What are Metacharacters and their use in Regular Expressions?\n",
    "\n",
    "We also have metacharacters.\n",
    "These are special characters that have a predefined meaning in regular expressions.\n",
    "\n",
    "<img src = \"regex-guide.jpg\">"
   ]
  },
  {
   "cell_type": "markdown",
   "metadata": {},
   "source": [
    "The difference again between search and findall lies in the repeating (overlapping) matches."
   ]
  },
  {
   "cell_type": "code",
   "execution_count": 19,
   "metadata": {},
   "outputs": [
    {
     "name": "stdout",
     "output_type": "stream",
     "text": [
      "['John', 'John']\n",
      "<re.Match object; span=(18, 22), match='John'>\n"
     ]
    }
   ],
   "source": [
    "text = \"Hello, my name is John. John is my name\"\n",
    "\n",
    "pattern = r\"John\"\n",
    "\n",
    "print(re.findall(pattern, text))\n",
    "print(re.search(pattern, text))"
   ]
  },
  {
   "cell_type": "markdown",
   "metadata": {},
   "source": [
    "<img src = \"Patterns.png\" width = 800px>"
   ]
  },
  {
   "cell_type": "code",
   "execution_count": 34,
   "metadata": {},
   "outputs": [
    {
     "name": "stdout",
     "output_type": "stream",
     "text": [
      "['atch', 'owercases', 'paces', 'ums', 'like', '12', 'and', 'no', 'caps', 'but', 'no', 'commas']\n"
     ]
    }
   ],
   "source": [
    "import re\n",
    "\n",
    "my_str = \"Match Lowercases Spaces Nums like 12, and no caps, but no commas\"\n",
    "\n",
    "print(re.findall('[a-z0-9]+', my_str)) #The + symbol makes it greedy"
   ]
  },
  {
   "cell_type": "markdown",
   "metadata": {},
   "source": [
    "## Example \n",
    "\n",
    "### Finding Domain Names using Regex\n",
    "\n",
    "Suppose we have a list of strings containing URLs and some of them may include the \"https://\" or \"http://\" prefix, we want to extract the domain names from the URL, regardless of the presence of the prefix.\n"
   ]
  },
  {
   "cell_type": "code",
   "execution_count": 64,
   "metadata": {},
   "outputs": [
    {
     "name": "stdout",
     "output_type": "stream",
     "text": [
      "The domain of url: https://www.example.com is: example.com\n",
      "The domain of url: http://example.org is: example.org\n"
     ]
    }
   ],
   "source": [
    "# List of URLs \n",
    "\n",
    "urls = [\n",
    "    \"https://www.example.com\",\n",
    "    \"http://example.org\",\n",
    "    \"www.example.net\",\n",
    "    \"example.com\"\n",
    "]\n",
    "\n",
    "# Regular Expression Pattern to Match the Domain Name\n",
    "domain_Pattern = r\"https?://?(www\\.)?([a-zA-Z0-9.-]+)\"\n",
    "\n",
    "for url in urls:\n",
    "    match = re.search(domain_Pattern,url)\n",
    "    if match:\n",
    "        print(f\"The domain of url: {url} is: {match.group()}\")\n"
   ]
  },
  {
   "cell_type": "markdown",
   "metadata": {},
   "source": [
    "## Note\n",
    "In regular expressions, when you place a portion of the pattern within parentheses ( ... ), it creates a capturing group.\n",
    "\n",
    "The accessing of the groups is sequential depending on the way we created them in the patterns parenthesis."
   ]
  },
  {
   "cell_type": "code",
   "execution_count": 55,
   "metadata": {},
   "outputs": [
    {
     "name": "stdout",
     "output_type": "stream",
     "text": [
      "Name: John's email is john@example.com and birthdate 21st.\n",
      "Email: john@example.com\n",
      "Birthdate: 21st\n"
     ]
    }
   ],
   "source": [
    "import re\n",
    "\n",
    "text = \"John's email is john@example.com and birthdate 21st.\"\n",
    "pattern = r\"(\\w+)'s email is (\\w+@\\w+\\.\\w+) and birthdate (\\d+\\w+).\"\n",
    "\n",
    "match = re.search(pattern, text)\n",
    "\n",
    "if match:\n",
    "    # Access specific capturing groups\n",
    "    name = match.group()\n",
    "    email = match.group(2)\n",
    "    birthdate = match.group(3)\n",
    "    print(\"Name:\", name)\n",
    "    print(\"Email:\", email)\n",
    "    print(\"Birthdate:\", birthdate)\n",
    "else:\n",
    "    print(\"No match found\")\n"
   ]
  },
  {
   "cell_type": "code",
   "execution_count": 41,
   "metadata": {},
   "outputs": [
    {
     "ename": "IndexError",
     "evalue": "no such group",
     "output_type": "error",
     "traceback": [
      "\u001b[1;31m---------------------------------------------------------------------------\u001b[0m",
      "\u001b[1;31mIndexError\u001b[0m                                Traceback (most recent call last)",
      "\u001b[1;32mc:\\Users\\Bildad Otieno\\Documents\\Billy_Repo\\NLP\\RegEx.ipynb Cell 20\u001b[0m line \u001b[0;36m1\n\u001b[0;32m      <a href='vscode-notebook-cell:/c%3A/Users/Bildad%20Otieno/Documents/Billy_Repo/NLP/RegEx.ipynb#X34sZmlsZQ%3D%3D?line=5'>6</a>\u001b[0m match \u001b[39m=\u001b[39m re\u001b[39m.\u001b[39msearch(pattern, text)\n\u001b[0;32m      <a href='vscode-notebook-cell:/c%3A/Users/Bildad%20Otieno/Documents/Billy_Repo/NLP/RegEx.ipynb#X34sZmlsZQ%3D%3D?line=7'>8</a>\u001b[0m \u001b[39mif\u001b[39;00m match:\n\u001b[0;32m      <a href='vscode-notebook-cell:/c%3A/Users/Bildad%20Otieno/Documents/Billy_Repo/NLP/RegEx.ipynb#X34sZmlsZQ%3D%3D?line=8'>9</a>\u001b[0m     \u001b[39m# Access the entire match\u001b[39;00m\n\u001b[1;32m---> <a href='vscode-notebook-cell:/c%3A/Users/Bildad%20Otieno/Documents/Billy_Repo/NLP/RegEx.ipynb#X34sZmlsZQ%3D%3D?line=9'>10</a>\u001b[0m     matched_text \u001b[39m=\u001b[39m match\u001b[39m.\u001b[39;49mgroup(\u001b[39m3\u001b[39;49m)\n\u001b[0;32m     <a href='vscode-notebook-cell:/c%3A/Users/Bildad%20Otieno/Documents/Billy_Repo/NLP/RegEx.ipynb#X34sZmlsZQ%3D%3D?line=10'>11</a>\u001b[0m     \u001b[39mprint\u001b[39m(\u001b[39m\"\u001b[39m\u001b[39mMatched text:\u001b[39m\u001b[39m\"\u001b[39m, matched_text)\n\u001b[0;32m     <a href='vscode-notebook-cell:/c%3A/Users/Bildad%20Otieno/Documents/Billy_Repo/NLP/RegEx.ipynb#X34sZmlsZQ%3D%3D?line=11'>12</a>\u001b[0m \u001b[39melse\u001b[39;00m:\n",
      "\u001b[1;31mIndexError\u001b[0m: no such group"
     ]
    }
   ],
   "source": [
    "import re\n",
    "\n",
    "text = \"Hello, my name is John.\"\n",
    "pattern = r\"my name is (\\w+).\"\n",
    "\n",
    "match = re.search(pattern, text)\n",
    "\n",
    "if match:\n",
    "    # Access the entire match\n",
    "    matched_text = match.group(3)\n",
    "    print(\"Matched text:\", matched_text)\n",
    "else:\n",
    "    print(\"No match found\")\n"
   ]
  }
 ],
 "metadata": {
  "kernelspec": {
   "display_name": "myenv",
   "language": "python",
   "name": "python3"
  },
  "language_info": {
   "codemirror_mode": {
    "name": "ipython",
    "version": 3
   },
   "file_extension": ".py",
   "mimetype": "text/x-python",
   "name": "python",
   "nbconvert_exporter": "python",
   "pygments_lexer": "ipython3",
   "version": "3.9.16"
  },
  "orig_nbformat": 4
 },
 "nbformat": 4,
 "nbformat_minor": 2
}
