{
 "cells": [
  {
   "cell_type": "markdown",
   "metadata": {},
   "source": [
    "## <p style = \"text-align: center\" >REGULAR EXPRESSIONS</p>\n",
    "<hr>\n",
    "\n",
    "### What is RegEx? \n",
    "\n",
    "\n",
    "- A RegEx, or Regular Expression, is a sequence of characters that forms a search pattern.\n",
    "\n",
    "- RegEx can be used to check if a string contains the specified search pattern.\n",
    "\n",
    "### Applications of RegEx\n",
    "\n",
    "\n",
    "1). Find links in Web pages\n",
    "\n",
    "2). Parse email addresses\n",
    "\n",
    "3). Remove unwanted strings or characters\n",
    "\n",
    "\n",
    "So to install the library we can do a pip or conda install:\n",
    "\n",
    "- pip install regex\n",
    "- conda install -c conda-forge regex\n",
    "\n",
    "\n"
   ]
  },
  {
   "cell_type": "code",
   "execution_count": 8,
   "metadata": {},
   "outputs": [],
   "source": [
    "#!pip install regex"
   ]
  },
  {
   "cell_type": "code",
   "execution_count": null,
   "metadata": {},
   "outputs": [],
   "source": [
    "# If you have a conda environment in place\n",
    "# !conda install regex"
   ]
  },
  {
   "cell_type": "markdown",
   "metadata": {},
   "source": [
    "We can use regex easily with python via the '<span style = \"color:blue\">re</span>' library:"
   ]
  },
  {
   "cell_type": "code",
   "execution_count": 2,
   "metadata": {},
   "outputs": [],
   "source": [
    "import re"
   ]
  },
  {
   "cell_type": "markdown",
   "metadata": {},
   "source": [
    "### Functions in RegEx\n",
    "\n",
    "Some of the methods that we have in regex include:"
   ]
  },
  {
   "cell_type": "markdown",
   "metadata": {},
   "source": [
    "<img src = \"Screenshot 2023-09-20 144748.png\"   margin-right = \"auto\">\n"
   ]
  },
  {
   "cell_type": "markdown",
   "metadata": {},
   "source": [
    "Pattern - a series of letters or symbols which can map to an actual text or words or punctuation."
   ]
  },
  {
   "cell_type": "markdown",
   "metadata": {},
   "source": [
    "## Looking to difference between Match and Search\n",
    "\n",
    "When we use the same search pattern for both words we find that search function returns an object because it looks for the existence of the pattern anywhere within the string.\n"
   ]
  },
  {
   "cell_type": "code",
   "execution_count": 6,
   "metadata": {},
   "outputs": [
    {
     "name": "stdout",
     "output_type": "stream",
     "text": [
      "None\n",
      "<re.Match object; span=(2, 3), match='c'>\n"
     ]
    }
   ],
   "source": [
    "print(re.search('c', 'abcde'))"
   ]
  },
  {
   "cell_type": "markdown",
   "metadata": {},
   "source": [
    "The same is not true for match which will only look for it at the beginning until it cannot match any longer:"
   ]
  },
  {
   "cell_type": "code",
   "execution_count": 8,
   "metadata": {},
   "outputs": [
    {
     "name": "stdout",
     "output_type": "stream",
     "text": [
      "None\n"
     ]
    }
   ],
   "source": [
    "print(re.match('c', 'abcde'))"
   ]
  },
  {
   "cell_type": "markdown",
   "metadata": {},
   "source": [
    "## What are Metacharacters and their use in Regular Expressions?\n",
    "\n",
    "We also have metacharacters.\n",
    "These are special characters that have a predefined meaning in regular expressions.\n",
    "\n",
    "<img src = \"regex-guide.jpg\">"
   ]
  },
  {
   "cell_type": "markdown",
   "metadata": {},
   "source": [
    "The difference again between search and findall lies in the repeating (overlapping) matches."
   ]
  },
  {
   "cell_type": "code",
   "execution_count": 19,
   "metadata": {},
   "outputs": [
    {
     "name": "stdout",
     "output_type": "stream",
     "text": [
      "['John', 'John']\n",
      "<re.Match object; span=(18, 22), match='John'>\n"
     ]
    }
   ],
   "source": [
    "text = \"Hello, my name is John. John is my name\"\n",
    "\n",
    "pattern = r\"John\"\n",
    "\n",
    "print(re.findall(pattern, text))\n",
    "print(re.search(pattern, text))"
   ]
  },
  {
   "cell_type": "markdown",
   "metadata": {},
   "source": [
    "<img src = \"Patterns.png\" width = 800px>"
   ]
  },
  {
   "cell_type": "code",
   "execution_count": 34,
   "metadata": {},
   "outputs": [
    {
     "name": "stdout",
     "output_type": "stream",
     "text": [
      "['atch', 'owercases', 'paces', 'ums', 'like', '12', 'and', 'no', 'caps', 'but', 'no', 'commas']\n"
     ]
    }
   ],
   "source": [
    "import re\n",
    "\n",
    "my_str = \"Match Lowercases Spaces Nums like 12, and no caps, but no commas\"\n",
    "\n",
    "print(re.findall('[a-z0-9]+', my_str)) #The + symbol makes it greedy"
   ]
  }
 ],
 "metadata": {
  "kernelspec": {
   "display_name": "myenv",
   "language": "python",
   "name": "python3"
  },
  "language_info": {
   "codemirror_mode": {
    "name": "ipython",
    "version": 3
   },
   "file_extension": ".py",
   "mimetype": "text/x-python",
   "name": "python",
   "nbconvert_exporter": "python",
   "pygments_lexer": "ipython3",
   "version": "3.9.16"
  },
  "orig_nbformat": 4
 },
 "nbformat": 4,
 "nbformat_minor": 2
}
