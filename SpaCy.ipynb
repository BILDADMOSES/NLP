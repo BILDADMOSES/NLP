{
 "cells": [
  {
   "cell_type": "markdown",
   "metadata": {},
   "source": [
    "## <p style = 'text-align: center'>Intoduction to SpaCy</p>\n",
    "---"
   ]
  },
  {
   "cell_type": "code",
   "execution_count": 14,
   "metadata": {},
   "outputs": [],
   "source": [
    "import spacy\n",
    "nlp = spacy.load('en_core_web_sm')"
   ]
  },
  {
   "cell_type": "markdown",
   "metadata": {},
   "source": [
    "We load a new document by passsing a string into the NLP variable"
   ]
  },
  {
   "cell_type": "code",
   "execution_count": 25,
   "metadata": {},
   "outputs": [],
   "source": [
    "text = \"Apple Inc. is based in Cupertino, California, and it was founded by Steve Jobs.\"\n",
    "doc = nlp(text)"
   ]
  },
  {
   "cell_type": "markdown",
   "metadata": {},
   "source": [
    "In spaCy, the Doc object, which represents a processed text, provides access to various attributes and properties that allow you to access linguistic annotations and information about the text. Here are some of the commonly used attributes and properties of the Doc object:\n",
    "\n",
    "**text**: The original text of the document.\n",
    "\n",
    "**ents**: A list of named entities found in the text.\n",
    "\n",
    "**sents**: A list of sentence objects in the document.\n",
    "\n",
    "**tokens**: A list of token objects, where each token represents a word or punctuation mark in the text.\n",
    "\n",
    "**noun_chunks**: A list of noun chunks or phrases in the text.\n",
    "\n",
    "**vector**: The document's vector representation, if a word vectors model is available.\n",
    "\n",
    "**vector_norm**: The L2 norm of the document's vector.\n",
    "\n",
    "**is_parsed**: A Boolean value indicating whether the text has been syntactically parsed.\n",
    "\n",
    "**is_tagged**: A Boolean value indicating whether part-of-speech tagging has been performed.\n",
    "\n",
    "**is_nered**: A Boolean value indicating whether named entity recognition (NER) has been performed.\n",
    "\n",
    "**has_annotation**: A Boolean value indicating whether the document has any linguistic annotations.\n",
    "\n",
    "**user_data**: A dictionary where custom data can be stored.\n",
    "\n",
    "**vocab**: The vocabulary of the language model used for tokenization and linguistic analysis.\n",
    "\n",
    "**lang**: The language of the document.\n",
    "\n",
    "**cats**: The document's category labels if text classification is performed.\n",
    "\n",
    "**similarity()**: A method for computing the similarity between two documents."
   ]
  },
  {
   "cell_type": "code",
   "execution_count": 36,
   "metadata": {},
   "outputs": [
    {
     "name": "stdout",
     "output_type": "stream",
     "text": [
      "Apple Inc. : ORG\n",
      "Cupertino : GPE\n",
      "California : GPE\n",
      "Steve Jobs : PERSON\n"
     ]
    }
   ],
   "source": [
    "for entity in doc.ents:\n",
    "    print(f'{entity.text} : {entity.label_}')"
   ]
  }
 ],
 "metadata": {
  "kernelspec": {
   "display_name": "myenv",
   "language": "python",
   "name": "python3"
  },
  "language_info": {
   "codemirror_mode": {
    "name": "ipython",
    "version": 3
   },
   "file_extension": ".py",
   "mimetype": "text/x-python",
   "name": "python",
   "nbconvert_exporter": "python",
   "pygments_lexer": "ipython3",
   "version": "3.9.16"
  },
  "orig_nbformat": 4
 },
 "nbformat": 4,
 "nbformat_minor": 2
}
