{
 "cells": [
  {
   "cell_type": "markdown",
   "metadata": {},
   "source": [
    "## <p style = \"text-align: center\" >WORD TOKENIZATION WITH NLTK</p>\n",
    "<hr>\n"
   ]
  },
  {
   "cell_type": "markdown",
   "metadata": {
    "vscode": {
     "languageId": "plaintext"
    }
   },
   "source": [
    "## What is Tokenization?\n",
    "\n",
    "<img src = \"Tokenization.jpg\" width = 300 align = center>\n",
    "\n",
    "Tokenization is the process of breaking down a text or a sequence of characters into smaller units called tokens. \n",
    "\n"
   ]
  },
  {
   "cell_type": "code",
   "execution_count": 1,
   "metadata": {},
   "outputs": [],
   "source": [
    "from nltk.tokenize import sent_tokenize, word_tokenize"
   ]
  },
  {
   "cell_type": "code",
   "execution_count": 2,
   "metadata": {},
   "outputs": [],
   "source": [
    "my_doc = [\"The movie was about a spaceship and aliens.\",\n",
    "          \"I really liked the movie!\",\n",
    "          \"Awesome action scenes, but boring characters.\",\n",
    "          \"The movie was awful! I hate alien films.\",\n",
    "          \"Space is cool! I liked the movie.\",\n",
    "          \"Movie space films, please!\"]"
   ]
  }
 ],
 "metadata": {
  "kernelspec": {
   "display_name": "myenv",
   "language": "python",
   "name": "python3"
  },
  "language_info": {
   "codemirror_mode": {
    "name": "ipython",
    "version": 3
   },
   "file_extension": ".py",
   "mimetype": "text/x-python",
   "name": "python",
   "nbconvert_exporter": "python",
   "pygments_lexer": "ipython3",
   "version": "3.9.16"
  },
  "orig_nbformat": 4
 },
 "nbformat": 4,
 "nbformat_minor": 2
}
